{
 "cells": [
  {
   "cell_type": "code",
   "execution_count": 1,
   "id": "d12e497d",
   "metadata": {
    "tags": []
   },
   "outputs": [
    {
     "name": "stdout",
     "output_type": "stream",
     "text": [
      "\n",
      "===================================BUG REPORT===================================\n",
      "Welcome to bitsandbytes. For bug reports, please run\n",
      "\n",
      "python -m bitsandbytes\n",
      "\n",
      " and submit this information together with your error trace to: https://github.com/TimDettmers/bitsandbytes/issues\n",
      "================================================================================\n",
      "bin /home/xinyu/anaconda3/envs/llm/lib/python3.10/site-packages/bitsandbytes/libbitsandbytes_cuda116.so\n",
      "CUDA SETUP: CUDA runtime path found: /home/xinyu/anaconda3/envs/llm/lib/libcudart.so\n",
      "CUDA SETUP: Highest compute capability among GPUs detected: 7.5\n",
      "CUDA SETUP: Detected CUDA version 116\n",
      "CUDA SETUP: Loading binary /home/xinyu/anaconda3/envs/llm/lib/python3.10/site-packages/bitsandbytes/libbitsandbytes_cuda116.so...\n"
     ]
    },
    {
     "name": "stderr",
     "output_type": "stream",
     "text": [
      "2023-05-28 00:05:02.343537: I tensorflow/core/platform/cpu_feature_guard.cc:182] This TensorFlow binary is optimized to use available CPU instructions in performance-critical operations.\n",
      "To enable the following instructions: AVX2 FMA, in other operations, rebuild TensorFlow with the appropriate compiler flags.\n",
      "2023-05-28 00:05:02.828021: W tensorflow/compiler/tf2tensorrt/utils/py_utils.cc:38] TF-TRT Warning: Could not find TensorRT\n"
     ]
    }
   ],
   "source": [
    "import torch\n",
    "from torch.nn import functional as F\n",
    "from bitsandbytes import functional as bnbf\n",
    "from auto_gptq.quantization import GPTQ\n",
    "from transformers import AutoModelForCausalLM\n",
    "from copy import deepcopy\n",
    "\n",
    "torch.random.manual_seed(42)\n",
    "torch.set_default_device(\"cuda\")"
   ]
  },
  {
   "cell_type": "code",
   "execution_count": 2,
   "id": "42a75e5f-104f-4432-a846-319e662b7f79",
   "metadata": {
    "tags": []
   },
   "outputs": [],
   "source": [
    "class SimpleQuant:\n",
    "\n",
    "    def __init__(self, bits=4):\n",
    "        self.bits = bits\n",
    "\n",
    "    def find_params(self, x):\n",
    "        self.maxq = 2**self.bits -1 \n",
    "        self.scale = (x.max() - x.min()) / self.maxq\n",
    "        self.zero = round(-x.min().item() / self.scale.item())\n",
    "\n",
    "    def quantize(self, x):\n",
    "        r = torch.round(x / self.scale) + self.zero\n",
    "        return torch.clamp(r, 0, self.maxq)\n",
    "\n",
    "    def dequantize(self, x):\n",
    "        return (x - self.zero) * self.scale"
   ]
  },
  {
   "cell_type": "code",
   "execution_count": 3,
   "id": "d0a5305f-d69d-4269-bb18-e521ecf3b6d3",
   "metadata": {
    "tags": []
   },
   "outputs": [],
   "source": [
    "import matplotlib.pyplot as plt\n",
    "import numpy as np\n",
    "\n",
    "def plot3compare(title,\n",
    "                plt_data,\n",
    "                plt_label,\n",
    "                x_label,\n",
    "                y_label,\n",
    "                x_ticks,\n",
    "                legend_loc=\"best\",\n",
    "                sparse=1.0):\n",
    "    \n",
    "    x = np.arange(len(plt_data[0])) * sparse\n",
    "\n",
    "    width = 0.2\n",
    "    center = len(plt_data) // 2\n",
    "    for idx, d in enumerate(plt_data):\n",
    "        plt.bar(x+(idx-center)*width, d, width, label=plt_label[idx])\n",
    "\n",
    "    plt.title(title)\n",
    "    plt.xlabel(x_label)\n",
    "    plt.ylabel(y_label)\n",
    "    plt.xticks(x, x_ticks)\n",
    "    plt.legend(loc=legend_loc)\n",
    "\n",
    "    plt.show()"
   ]
  },
  {
   "cell_type": "code",
   "execution_count": 4,
   "id": "abc9cac2-9b04-449a-b327-11237d9d9bc4",
   "metadata": {
    "tags": []
   },
   "outputs": [],
   "source": [
    "def parseint8(x):\n",
    "    return (x >> 4) & 0b1111, x & 0b1111"
   ]
  },
  {
   "cell_type": "markdown",
   "id": "58beb46a-f37b-4fc3-acb2-6a97a5ab8113",
   "metadata": {
    "tags": []
   },
   "source": [
    "## 1*64 Tensor Quant"
   ]
  },
  {
   "cell_type": "code",
   "execution_count": 5,
   "id": "e069e9de-c0c0-4771-b8b0-7cb40bce0fcc",
   "metadata": {
    "tags": []
   },
   "outputs": [],
   "source": [
    "x = torch.Tensor([0.2, 0.3, 0.7, 1.8]*16)\n",
    "x = x.to(\"cuda\")"
   ]
  },
  {
   "cell_type": "code",
   "execution_count": 6,
   "id": "1bbb1386-7932-4394-a1f6-7f59a43471e5",
   "metadata": {
    "tags": []
   },
   "outputs": [],
   "source": [
    "x_i = torch.rand(64, 16).to(\"cuda\")\n",
    "x_o = x@x_i"
   ]
  },
  {
   "cell_type": "markdown",
   "id": "85052ab2-0546-4353-9344-9a49247f4598",
   "metadata": {
    "tags": []
   },
   "source": [
    "### SimpleQuant To Int4"
   ]
  },
  {
   "cell_type": "code",
   "execution_count": 7,
   "id": "d975297f-da4d-40e3-aee2-a78d8425940b",
   "metadata": {
    "tags": []
   },
   "outputs": [],
   "source": [
    "sq = SimpleQuant()\n",
    "sq.find_params(x)"
   ]
  },
  {
   "cell_type": "code",
   "execution_count": 8,
   "id": "277a9613-ff06-4ed8-8747-9c6b5bf7d9bd",
   "metadata": {
    "tags": []
   },
   "outputs": [
    {
     "data": {
      "text/plain": [
       "tensor([ 0.,  1.,  5., 15.], device='cuda:0')"
      ]
     },
     "execution_count": 8,
     "metadata": {},
     "output_type": "execute_result"
    }
   ],
   "source": [
    "sq.quantize(x)[:4]"
   ]
  },
  {
   "cell_type": "code",
   "execution_count": 9,
   "id": "00814de3-ec05-41b7-986b-4383794bd2a6",
   "metadata": {
    "tags": []
   },
   "outputs": [
    {
     "data": {
      "text/plain": [
       "tensor([0.2133, 0.3200, 0.7467, 1.8133], device='cuda:0')"
      ]
     },
     "execution_count": 9,
     "metadata": {},
     "output_type": "execute_result"
    }
   ],
   "source": [
    "sqx = sq.dequantize(sq.quantize(x))\n",
    "sqx[:4]"
   ]
  },
  {
   "cell_type": "code",
   "execution_count": 10,
   "id": "3ed63758-041f-4e91-80a0-b8828a07ffe2",
   "metadata": {
    "tags": []
   },
   "outputs": [
    {
     "data": {
      "text/plain": [
       "tensor(0.0007, device='cuda:0')"
      ]
     },
     "execution_count": 10,
     "metadata": {},
     "output_type": "execute_result"
    }
   ],
   "source": [
    "sqb = F.mse_loss(x, sqx)\n",
    "sqb"
   ]
  },
  {
   "cell_type": "code",
   "execution_count": 11,
   "id": "bb9debe7-1525-4e53-983d-c67d3ec58131",
   "metadata": {
    "tags": []
   },
   "outputs": [
    {
     "data": {
      "text/plain": [
       "tensor(0.5399, device='cuda:0')"
      ]
     },
     "execution_count": 11,
     "metadata": {},
     "output_type": "execute_result"
    }
   ],
   "source": [
    "sqbo = F.mse_loss(x_o, sqx@x_i)\n",
    "sqbo"
   ]
  },
  {
   "cell_type": "code",
   "execution_count": 12,
   "id": "4af3b30a-95c4-436d-bf07-0e71158be775",
   "metadata": {
    "tags": []
   },
   "outputs": [],
   "source": [
    "def sqi4(x, x_i):\n",
    "    x_o = x@x_i\n",
    "    sq = SimpleQuant()\n",
    "    sq.find_params(x)\n",
    "    \n",
    "    print(f\"Quant: {sq.quantize(x)[:4]}\")\n",
    "\n",
    "    sqx = sq.dequantize(sq.quantize(x))\n",
    "    print(f\"Dequant: {sqx[:4]}\")\n",
    "    \n",
    "    sqb = F.mse_loss(x, sqx).item()\n",
    "    sqbo = F.mse_loss(x_o, sqx@x_i).item()\n",
    "    print(f\"Loss: {sqb}, {sqbo}\")\n",
    "    return sqb, sqbo, sqx"
   ]
  },
  {
   "cell_type": "markdown",
   "id": "f95150c8-fccd-4a36-8488-14a4e3543da1",
   "metadata": {},
   "source": [
    "### Quant to FP4"
   ]
  },
  {
   "cell_type": "code",
   "execution_count": 13,
   "id": "01266bcf-b887-440a-b514-6efaf95f556f",
   "metadata": {
    "tags": []
   },
   "outputs": [
    {
     "data": {
      "text/plain": [
       "[6, 6, 4, 3]"
      ]
     },
     "execution_count": 13,
     "metadata": {},
     "output_type": "execute_result"
    }
   ],
   "source": [
    "fp4q, fp4qs = bnbf.quantize_fp4(x)\n",
    "[vv.item() for v in fp4q[:2] for vv in parseint8(v)]"
   ]
  },
  {
   "cell_type": "code",
   "execution_count": 14,
   "id": "61b45d6c-c10a-4f73-b2d5-ed28a78d135f",
   "metadata": {
    "tags": []
   },
   "outputs": [
    {
     "data": {
      "text/plain": [
       "tensor([0.3000, 0.3000, 0.6000, 1.8000], device='cuda:0')"
      ]
     },
     "execution_count": 14,
     "metadata": {},
     "output_type": "execute_result"
    }
   ],
   "source": [
    "fp4qx = bnbf.dequantize_fp4(fp4q, fp4qs)\n",
    "fp4qx[:4]"
   ]
  },
  {
   "cell_type": "code",
   "execution_count": 15,
   "id": "b425421b-bd40-491f-9eec-290bc096bc74",
   "metadata": {
    "tags": []
   },
   "outputs": [
    {
     "data": {
      "text/plain": [
       "tensor(0.0050, device='cuda:0')"
      ]
     },
     "execution_count": 15,
     "metadata": {},
     "output_type": "execute_result"
    }
   ],
   "source": [
    "fp4qb = F.mse_loss(x, fp4qx)\n",
    "fp4qb"
   ]
  },
  {
   "cell_type": "code",
   "execution_count": 16,
   "id": "369b55e0-3ad7-4c82-90c8-7bcdce48d42a",
   "metadata": {
    "tags": []
   },
   "outputs": [
    {
     "data": {
      "text/plain": [
       "tensor(0.0348, device='cuda:0')"
      ]
     },
     "execution_count": 16,
     "metadata": {},
     "output_type": "execute_result"
    }
   ],
   "source": [
    "fp4qbo = F.mse_loss(x_o, fp4qx@x_i)\n",
    "fp4qbo"
   ]
  },
  {
   "cell_type": "code",
   "execution_count": 17,
   "id": "9de7a157-21e4-4c3e-8217-5e45aafb36a9",
   "metadata": {
    "tags": []
   },
   "outputs": [],
   "source": [
    "def qfp4(x, x_i):\n",
    "    x_o = x@x_i\n",
    "    fp4q, fp4qs = bnbf.quantize_fp4(x)\n",
    "    quant_v = [vv.item() for v in fp4q[:2] for vv in parseint8(v)]\n",
    "    print(f\"Quant: {quant_v}\")\n",
    "    \n",
    "    fp4qx = bnbf.dequantize_fp4(fp4q, fp4qs)\n",
    "    print(f\"Dequant: {fp4qx[:4]}\")\n",
    "    \n",
    "    fp4qb = F.mse_loss(x, fp4qx).item()\n",
    "    fp4qbo = F.mse_loss(x_o, fp4qx@x_i).item()\n",
    "    print(f\"Loss: {fp4qb}, {fp4qbo}\")\n",
    "    return fp4qb, fp4qbo, fp4qx"
   ]
  },
  {
   "cell_type": "markdown",
   "id": "b0398d9c-d390-4cf3-807a-abac8926d39e",
   "metadata": {},
   "source": [
    "### Quant to NF4"
   ]
  },
  {
   "cell_type": "code",
   "execution_count": 18,
   "id": "d6f1860e-7726-4707-a49e-4324da796e75",
   "metadata": {
    "tags": []
   },
   "outputs": [
    {
     "data": {
      "text/plain": [
       "[8, 9, 11, 15]"
      ]
     },
     "execution_count": 18,
     "metadata": {},
     "output_type": "execute_result"
    }
   ],
   "source": [
    "nf4q, nf4qs = bnbf.quantize_nf4(x)\n",
    "[vv.item() for v in nf4q[:2] for vv in parseint8(v)]"
   ]
  },
  {
   "cell_type": "code",
   "execution_count": 19,
   "id": "676bfb36-54b8-4e10-94af-efc71cea9b41",
   "metadata": {
    "tags": []
   },
   "outputs": [
    {
     "data": {
      "text/plain": [
       "tensor([0.1432, 0.2897, 0.6082, 1.8000], device='cuda:0')"
      ]
     },
     "execution_count": 19,
     "metadata": {},
     "output_type": "execute_result"
    }
   ],
   "source": [
    "nf4qx = bnbf.dequantize_fp4(nf4q, nf4qs)\n",
    "nf4qx[:4]"
   ]
  },
  {
   "cell_type": "code",
   "execution_count": 20,
   "id": "4c1e1384-cf57-4c06-a3f8-cedb94584421",
   "metadata": {
    "tags": []
   },
   "outputs": [
    {
     "data": {
      "text/plain": [
       "tensor(0.0029, device='cuda:0')"
      ]
     },
     "execution_count": 20,
     "metadata": {},
     "output_type": "execute_result"
    }
   ],
   "source": [
    "nf4qb = F.mse_loss(x, nf4qx)\n",
    "nf4qb"
   ]
  },
  {
   "cell_type": "code",
   "execution_count": 21,
   "id": "0812f66c-c78e-490a-bf8a-c7b777f2217f",
   "metadata": {
    "tags": []
   },
   "outputs": [
    {
     "data": {
      "text/plain": [
       "tensor(1.5706, device='cuda:0')"
      ]
     },
     "execution_count": 21,
     "metadata": {},
     "output_type": "execute_result"
    }
   ],
   "source": [
    "nf4qbo = F.mse_loss(x_o, nf4qx@x_i)\n",
    "nf4qbo"
   ]
  },
  {
   "cell_type": "code",
   "execution_count": 22,
   "id": "0bbdfee6-9af2-402e-b3c2-2918ca7c58d0",
   "metadata": {
    "tags": []
   },
   "outputs": [],
   "source": [
    "def qnf4(x, x_i):\n",
    "    x_o = x@x_i\n",
    "    nf4q, nf4qs = bnbf.quantize_nf4(x)\n",
    "    quant_v = [vv.item() for v in nf4q[:2] for vv in parseint8(v)]\n",
    "    print(f\"Quant: {quant_v}\")\n",
    "\n",
    "    nf4qx = bnbf.dequantize_fp4(nf4q, nf4qs)\n",
    "    print(f\"Dequant: {nf4qx[:4]}\")\n",
    "\n",
    "    nf4qb = F.mse_loss(x, nf4qx).item()\n",
    "    nf4qbo = F.mse_loss(x_o, nf4qx@x_i).item()\n",
    "    print(f\"Loss: {nf4qb}, {nf4qbo}\")\n",
    "    return nf4qb, nf4qbo, nf4qx"
   ]
  },
  {
   "cell_type": "markdown",
   "id": "910c08a3-4331-4f9b-9f82-576b3c72b60f",
   "metadata": {},
   "source": [
    "### Compare"
   ]
  },
  {
   "cell_type": "code",
   "execution_count": 23,
   "id": "c08c5721-6d06-482e-9976-8c6a18c1c721",
   "metadata": {
    "tags": []
   },
   "outputs": [],
   "source": [
    "x_allpos = torch.rand(64).to(\"cuda\")\n",
    "x_negpos = (torch.rand(64) - torch.rand(64).mean()).to(\"cuda\")\n",
    "x_nomal = torch.normal(torch.rand(64)).to(\"cuda\")\n",
    "\n",
    "x_list = [x_allpos, x_negpos, x_nomal]\n",
    "q_func = [sqi4, qfp4, qnf4]"
   ]
  },
  {
   "cell_type": "code",
   "execution_count": 24,
   "id": "ff4d3bba-920c-46c1-bf4a-190618b5ade6",
   "metadata": {
    "tags": []
   },
   "outputs": [],
   "source": [
    "%%capture\n",
    "plt_data_tu = [[f(x, x_i) for x in x_list] for f in q_func]"
   ]
  },
  {
   "cell_type": "code",
   "execution_count": 25,
   "id": "de16a533-d5df-4fd3-809b-c523822ab7c4",
   "metadata": {
    "tags": []
   },
   "outputs": [
    {
     "data": {
      "image/png": "[encoded data removed]",
      "text/plain": [
       "<Figure size 640x480 with 1 Axes>"
      ]
     },
     "metadata": {},
     "output_type": "display_data"
    }
   ],
   "source": [
    "# Not important\n",
    "plt_data = [[t[0] for t in tt] for tt in plt_data_tu]\n",
    "plot3compare(\n",
    "    title='Comparison: Quant Error(MSE) in Weights',\n",
    "    plt_data=plt_data,\n",
    "    plt_label=['INT4', 'FP4', 'NF4'],\n",
    "    x_label='Dataset',\n",
    "    y_label='Quant Error',\n",
    "    x_ticks=['AllPos', 'PosNeg', 'Normal'],\n",
    "    legend_loc=\"upper left\"\n",
    ")"
   ]
  },
  {
   "cell_type": "code",
   "execution_count": 26,
   "id": "7b39543e-a9aa-4be6-a8ec-fac29616003e",
   "metadata": {
    "tags": []
   },
   "outputs": [
    {
     "data": {
      "image/png": "[encoded data removed]",
      "text/plain": [
       "<Figure size 640x480 with 1 Axes>"
      ]
     },
     "metadata": {},
     "output_type": "display_data"
    }
   ],
   "source": [
    "# Important\n",
    "plt_data = [[t[1] for t in tt] for tt in plt_data_tu]\n",
    "plot3compare(\n",
    "    title='Comparison: Quant Error(MSE) in Random Input',\n",
    "    plt_data=plt_data,\n",
    "    plt_label=['INT4', 'FP4', 'NF4'],\n",
    "    x_label='Dataset',\n",
    "    y_label='Quant Error',\n",
    "    x_ticks=['AllPos', 'PosNeg', 'Normal'],\n",
    "    legend_loc=\"upper left\"\n",
    ")"
   ]
  },
  {
   "cell_type": "markdown",
   "id": "e36ca257-dd1a-4828-9606-86df7b5afd44",
   "metadata": {},
   "source": [
    "## Quant OPT-125m"
   ]
  },
  {
   "cell_type": "code",
   "execution_count": 27,
   "id": "7175b24b-ac37-4281-83f2-8d15dd675be2",
   "metadata": {
    "tags": []
   },
   "outputs": [],
   "source": [
    "def get_layer_by_name(model, layer_name):\n",
    "    for name, module in model.named_modules():\n",
    "        if name == layer_name:\n",
    "            return module\n",
    "    raise Exception(f\"no layer named {layer_name}\")"
   ]
  },
  {
   "cell_type": "markdown",
   "id": "24264047-b76a-4ea0-89c0-2454015b431f",
   "metadata": {},
   "source": [
    "### Get Layer to Quant"
   ]
  },
  {
   "cell_type": "code",
   "execution_count": 28,
   "id": "73029e63-6280-421e-bf52-dffc78ed335a",
   "metadata": {
    "tags": []
   },
   "outputs": [],
   "source": [
    "model = AutoModelForCausalLM.from_pretrained(\"facebook/opt-125m\")\n",
    "\n",
    "layer = get_layer_by_name(model, \"model.decoder.layers.0.fc2\")\n",
    "layer = layer.to(\"cuda\")\n",
    "weight_c = layer.weight.clone()"
   ]
  },
  {
   "cell_type": "code",
   "execution_count": 29,
   "id": "3b791f32-3754-4545-9fa4-a12042d7a5c4",
   "metadata": {
    "tags": []
   },
   "outputs": [],
   "source": [
    "x_i = torch.rand(layer.in_features, 100).to(\"cuda\")"
   ]
  },
  {
   "cell_type": "markdown",
   "id": "dd2eb46e-74c2-4aa2-9aee-93be8afda9ef",
   "metadata": {
    "tags": []
   },
   "source": [
    "### Quant With simple int4, fp4, nf4"
   ]
  },
  {
   "cell_type": "code",
   "execution_count": 30,
   "id": "8bd8cb00-c7f4-4cfa-8103-781cb8abce56",
   "metadata": {
    "tags": []
   },
   "outputs": [
    {
     "name": "stdout",
     "output_type": "stream",
     "text": [
      "Quant: tensor([[8., 8., 8.,  ..., 8., 8., 8.],\n",
      "        [8., 8., 8.,  ..., 8., 8., 8.],\n",
      "        [8., 8., 8.,  ..., 8., 8., 8.],\n",
      "        [8., 8., 8.,  ..., 8., 8., 8.]], device='cuda:0',\n",
      "       grad_fn=<SliceBackward0>)\n",
      "Dequant: tensor([[0., 0., 0.,  ..., 0., 0., 0.],\n",
      "        [0., 0., 0.,  ..., 0., 0., 0.],\n",
      "        [0., 0., 0.,  ..., 0., 0., 0.],\n",
      "        [0., 0., 0.,  ..., 0., 0., 0.]], device='cuda:0',\n",
      "       grad_fn=<SliceBackward0>)\n",
      "Loss: 0.0005981011781841516, 0.873798668384552\n"
     ]
    }
   ],
   "source": [
    "sqi4_loss = sqi4(weight_c, x_i)"
   ]
  },
  {
   "cell_type": "code",
   "execution_count": 31,
   "id": "85d38b43-b16d-402c-989b-4ffc7da434cf",
   "metadata": {
    "tags": []
   },
   "outputs": [
    {
     "name": "stdout",
     "output_type": "stream",
     "text": [
      "Quant: [4, 9, 9, 4]\n",
      "Dequant: tensor([[ 0.0271, -0.0004, -0.0004,  ...,  0.0003,  0.0266, -0.0266],\n",
      "        [-0.0191, -0.0143,  0.0287,  ...,  0.0004, -0.0391, -0.0004],\n",
      "        [ 0.0172, -0.0086,  0.0343,  ..., -0.0101, -0.0101, -0.0003],\n",
      "        [ 0.0156,  0.0156,  0.0156,  ...,  0.0122, -0.0183, -0.0122]],\n",
      "       device='cuda:0')\n",
      "Loss: 1.2598326975421514e-05, 0.017209840938448906\n"
     ]
    }
   ],
   "source": [
    "qfp4_loss = qfp4(weight_c, x_i)"
   ]
  },
  {
   "cell_type": "code",
   "execution_count": 32,
   "id": "e3a33e4b-fcfb-432b-beb4-c56cf83d6fa0",
   "metadata": {
    "tags": []
   },
   "outputs": [
    {
     "name": "stdout",
     "output_type": "stream",
     "text": [
      "Quant: [12, 7, 7, 11]\n",
      "Dequant: tensor([[ 0.0358,  0.0000,  0.0000,  ...,  0.0000,  0.0300, -0.0280],\n",
      "        [-0.0226, -0.0106,  0.0322,  ...,  0.0000, -0.0309, -0.0071],\n",
      "        [ 0.0174, -0.0095,  0.0289,  ..., -0.0112, -0.0055, -0.0055],\n",
      "        [ 0.0074,  0.0074,  0.0151,  ...,  0.0118, -0.0209, -0.0067]],\n",
      "       device='cuda:0')\n",
      "Loss: 6.642355856456561e-06, 0.007513480260968208\n"
     ]
    }
   ],
   "source": [
    "qnf4_loss = qnf4(weight_c, x_i)"
   ]
  },
  {
   "cell_type": "markdown",
   "id": "ea58d982-e7ac-409d-a718-28fc07438519",
   "metadata": {},
   "source": [
    "### Quant With GPTQ"
   ]
  },
  {
   "cell_type": "code",
   "execution_count": 33,
   "id": "610ecafa-ff7f-4650-8cff-cc091f4644c2",
   "metadata": {
    "tags": []
   },
   "outputs": [],
   "source": [
    "gptq = GPTQ(deepcopy(layer))"
   ]
  },
  {
   "cell_type": "code",
   "execution_count": 34,
   "id": "92824882-98ba-4963-b01a-3c635594b66e",
   "metadata": {
    "tags": []
   },
   "outputs": [],
   "source": [
    "with torch.no_grad():\n",
    "    inp = torch.rand(10000, layer.in_features).to(\"cuda\")\n",
    "    out = layer(inp)\n",
    "gptq.add_batch(inp, out)"
   ]
  },
  {
   "cell_type": "code",
   "execution_count": 35,
   "id": "60b9fc3e-5e3a-42b9-8d25-4f5111ddbb08",
   "metadata": {
    "tags": []
   },
   "outputs": [],
   "source": [
    "gptq.quantizer.configure(4, perchannel=True)"
   ]
  },
  {
   "cell_type": "code",
   "execution_count": 36,
   "id": "10db4604-fd70-4d65-a106-02e3c78b1af5",
   "metadata": {
    "tags": []
   },
   "outputs": [],
   "source": [
    "_ = gptq.fasterquant()"
   ]
  },
  {
   "cell_type": "code",
   "execution_count": 37,
   "id": "bf2d4116-10e8-4bed-b55e-aebfaf78ba21",
   "metadata": {
    "tags": []
   },
   "outputs": [
    {
     "data": {
      "text/plain": [
       "tensor(3.9267e-05, device='cuda:0', grad_fn=<MseLossBackward0>)"
      ]
     },
     "execution_count": 37,
     "metadata": {},
     "output_type": "execute_result"
    }
   ],
   "source": [
    "gptq_loss = F.mse_loss(weight_c, gptq.layer.weight.data)\n",
    "gptq_loss"
   ]
  },
  {
   "cell_type": "code",
   "execution_count": 38,
   "id": "3fb6c528-e5d8-4e83-8ef0-de658f0d75a4",
   "metadata": {
    "tags": []
   },
   "outputs": [
    {
     "data": {
      "text/plain": [
       "tensor(0.0100, device='cuda:0', grad_fn=<MseLossBackward0>)"
      ]
     },
     "execution_count": 38,
     "metadata": {},
     "output_type": "execute_result"
    }
   ],
   "source": [
    "gptq_losso = F.mse_loss(weight_c@x_i, gptq.layer.weight.data@x_i)\n",
    "gptq_losso"
   ]
  },
  {
   "cell_type": "code",
   "execution_count": 39,
   "id": "2abcec9f-c492-4fb6-9ca8-c42b45ab7e32",
   "metadata": {
    "tags": []
   },
   "outputs": [],
   "source": [
    "def qgptq(layer, x_i, num_sample=100, use_inp=False):\n",
    "    weight_copy = layer.weight.clone()\n",
    "    gptq = GPTQ(deepcopy(layer))\n",
    "    with torch.no_grad():\n",
    "        inp = torch.rand(num_sample, layer.in_features).to(\"cuda\")\n",
    "        if use_inp:\n",
    "            inp = torch.cat((inp, x_i), 0)\n",
    "        out = layer(inp)\n",
    "\n",
    "    gptq.add_batch(inp, out)\n",
    "    gptq.quantizer.configure(4, perchannel=True)\n",
    "    _ = gptq.fasterquant()\n",
    "    w_err = F.mse_loss(weight_copy, gptq.layer.weight.data).item()\n",
    "    o_err = F.mse_loss((weight_copy@x_i.T).flatten(), (gptq.layer.weight.data@x_i.T).flatten()).item()\n",
    "    return w_err, o_err, gptq.layer.weight.data"
   ]
  },
  {
   "cell_type": "markdown",
   "id": "38ada168-08e2-4d3f-b204-3fbb8ad8c606",
   "metadata": {
    "tags": []
   },
   "source": [
    "### Compare\n",
    "Considering that the performance of simple quant is relatively poor, and GPTQ itself is an upgraded version of simple quant, sq no longer participates in the comparison"
   ]
  },
  {
   "cell_type": "code",
   "execution_count": 40,
   "id": "75e5da31-cee5-4278-b94a-c1bc233a37a1",
   "metadata": {
    "tags": []
   },
   "outputs": [],
   "source": [
    "layer_names = [\n",
    "    \"model.decoder.layers.6.self_attn.q_proj\",\n",
    "    \"model.decoder.layers.6.self_attn.k_proj\",\n",
    "    \"model.decoder.layers.6.self_attn.v_proj\",\n",
    "    \"model.decoder.layers.6.self_attn.out_proj\",\n",
    "    \"model.decoder.layers.6.fc1\",\n",
    "    \"model.decoder.layers.6.fc2\",\n",
    "]\n",
    "\n",
    "layers = [get_layer_by_name(model, n).to(\"cuda\") for n in layer_names]\n",
    "layers_xi = [torch.rand(l.in_features, 100).to(\"cuda\") for l in layers]"
   ]
  },
  {
   "cell_type": "code",
   "execution_count": 41,
   "id": "f5088266-b0b1-48ba-b534-83ea1b1e04ba",
   "metadata": {
    "tags": []
   },
   "outputs": [],
   "source": [
    "%%capture\n",
    "fp4error_tu = [qfp4(l.weight, layers_xi[idx]) for idx, l in enumerate(layers)]\n",
    "nf4error_tu = [qnf4(l.weight, layers_xi[idx]) for idx, l in enumerate(layers)]\n",
    "gptqerror_tu = [qgptq(l, layers_xi[idx].T, 100) for idx, l in enumerate(layers)]\n",
    "gptqerror_data100_tu = [qgptq(l, layers_xi[idx].T, 100, True) for idx, l in enumerate(layers)]\n",
    "gptqerror_data100000_tu = [qgptq(l, layers_xi[idx].T, 100000, True) for idx, l in enumerate(layers)]"
   ]
  },
  {
   "cell_type": "code",
   "execution_count": 42,
   "id": "729d1a0c-2dc9-42cc-a5fb-40dcef015d09",
   "metadata": {
    "tags": []
   },
   "outputs": [],
   "source": [
    "layer_errors = [fp4error_tu, nf4error_tu,gptqerror_data100_tu,  gptqerror_data100000_tu, gptqerror_tu]"
   ]
  },
  {
   "cell_type": "code",
   "execution_count": 43,
   "id": "14c3660c-0926-416a-9e75-be9e72db3194",
   "metadata": {
    "tags": []
   },
   "outputs": [
    {
     "data": {
      "image/png": "[encoded data removed]",
      "text/plain": [
       "<Figure size 640x480 with 1 Axes>"
      ]
     },
     "metadata": {},
     "output_type": "display_data"
    }
   ],
   "source": [
    "plt_data = [\n",
    "    [t[0] for t in d]\n",
    "    for d in layer_errors\n",
    "]\n",
    "plot3compare(\n",
    "    title='Comparison: Quant Error(MSE) in Weight',\n",
    "    plt_data=plt_data,\n",
    "    plt_label=['FP4', 'NF4', 'GPTQ-1e-2', \"GPTQ-1e-5\", \"GPTQ-0\"],\n",
    "    x_label='Weights of Layer6',\n",
    "    y_label='Quant Error',\n",
    "    x_ticks=['q_proj', 'k_proj', 'v_proj', 'out_proj', 'fc1', \"fc2\"],\n",
    "    legend_loc=\"upper right\",\n",
    "    sparse=1.2\n",
    ")"
   ]
  },
  {
   "cell_type": "code",
   "execution_count": 44,
   "id": "f7e565c2-654d-40c9-8104-1c65629b225f",
   "metadata": {},
   "outputs": [
    {
     "data": {
      "image/png": "[encoded data removed]",
      "text/plain": [
       "<Figure size 640x480 with 1 Axes>"
      ]
     },
     "metadata": {},
     "output_type": "display_data"
    }
   ],
   "source": [
    "plt_data = [\n",
    "    [t[1] for t in d]\n",
    "    for d in layer_errors\n",
    "]\n",
    "plot3compare(\n",
    "    title='Comparison: Quant Error in Random Input',\n",
    "    plt_data=plt_data,\n",
    "    plt_label=['FP4', 'NF4', 'GPTQ-1e-2', \"GPTQ-1e-5\", \"GPTQ-0\"],\n",
    "    x_label='Weights of Layer6',\n",
    "    y_label='Quant Error',\n",
    "    x_ticks=['q_proj', 'k_proj', 'v_proj', 'out_proj', 'fc1', \"fc2\"],\n",
    "    legend_loc=\"upper center\",\n",
    "    sparse=1.2\n",
    ")"
   ]
  },
  {
   "cell_type": "markdown",
   "id": "72dc8e5f-5f96-4628-a462-56f91801fae7",
   "metadata": {},
   "source": [
    "## TransformerBlockWise Quant "
   ]
  },
  {
   "cell_type": "code",
   "execution_count": 45,
   "id": "99ea68e9-0039-4ee5-844f-c03546846bb8",
   "metadata": {
    "tags": []
   },
   "outputs": [],
   "source": [
    "quant_names = [\"self_attn.k_proj\", \"self_attn.v_proj\", \"self_attn.q_proj\", \"self_attn.out_proj\", \"fc1\", \"fc2\"]\n",
    "\n",
    "def quant_layer(layer, x, num_sample=100):\n",
    "    ground_t = layer(x)[0]\n",
    "    fp4_layer = deepcopy(layer)\n",
    "    nf4_layer = deepcopy(layer)\n",
    "    gptq_layer = deepcopy(layer)\n",
    "    \n",
    "    for name, mod in fp4_layer.named_modules():\n",
    "        if name in quant_names:\n",
    "            _, _, mod.weight.data = qfp4(mod.weight, torch.zeros(mod.in_features))\n",
    "    \n",
    "    for name, mod in nf4_layer.named_modules():\n",
    "        if name in quant_names:\n",
    "            _, _, mod.weight.data = qnf4(mod.weight, torch.zeros(mod.in_features))\n",
    "    \n",
    "    for name, mod in gptq_layer.named_modules():\n",
    "        if name in quant_names:\n",
    "            _, _, mod.weight.data = qgptq(mod, torch.zeros(mod.in_features), num_sample)\n",
    "\n",
    "    fp4e = F.mse_loss(ground_t, fp4_layer(x)[0]).item()\n",
    "    nf4e = F.mse_loss(ground_t, nf4_layer(x)[0]).item()\n",
    "    gptqe = F.mse_loss(ground_t, gptq_layer(x)[0]).item()\n",
    "\n",
    "    return fp4e, nf4e, gptqe"
   ]
  },
  {
   "cell_type": "code",
   "execution_count": 46,
   "id": "fcc2d199-a9b4-4340-a420-bc3a87ef06f8",
   "metadata": {
    "tags": []
   },
   "outputs": [],
   "source": [
    "quant_layers_names = [\n",
    "    \"model.decoder.layers.0\",\n",
    "    \"model.decoder.layers.2\",\n",
    "    \"model.decoder.layers.6\",\n",
    "    \"model.decoder.layers.9\",\n",
    "    \"model.decoder.layers.10\",\n",
    "    \"model.decoder.layers.11\"\n",
    "]\n",
    "\n",
    "quant_layers = [get_layer_by_name(model, n) for n in quant_layers_names]"
   ]
  },
  {
   "cell_type": "code",
   "execution_count": 47,
   "id": "9c86ec24-e819-4f04-b51b-6a1a21a6c446",
   "metadata": {
    "tags": []
   },
   "outputs": [],
   "source": [
    "x_i = torch.rand(1, 100, 768)"
   ]
  },
  {
   "cell_type": "code",
   "execution_count": 48,
   "id": "17938734-c6ff-4b1d-8468-f36ce96ed31b",
   "metadata": {
    "tags": []
   },
   "outputs": [],
   "source": [
    "%%capture\n",
    "plt_data = [quant_layer(l, x_i) for l in quant_layers]"
   ]
  },
  {
   "cell_type": "code",
   "execution_count": 49,
   "id": "e415ef5c-a651-40e7-8fc1-99b36ce574e8",
   "metadata": {
    "tags": []
   },
   "outputs": [
    {
     "data": {
      "image/png": "[encoded data removed]",
      "text/plain": [
       "<Figure size 640x480 with 1 Axes>"
      ]
     },
     "metadata": {},
     "output_type": "display_data"
    }
   ],
   "source": [
    "plt_data = [list(d) for d in plt_data]\n",
    "plt_data = np.mat(plt_data).T.tolist()\n",
    "\n",
    "x_ticks = [ln[ln.rindex(\"layers\", ):] for ln in quant_layers_names]\n",
    "plot3compare(\n",
    "    title='Comparison: Quant Error in Random Input',\n",
    "    plt_data=plt_data,\n",
    "    plt_label=['FP4', 'NF4', 'GPTQ'],\n",
    "    x_label='Layers of TB',\n",
    "    y_label='Quant Error',\n",
    "    x_ticks=x_ticks,\n",
    "    legend_loc=\"upper center\"\n",
    ")"
   ]
  },
  {
   "cell_type": "code",
   "execution_count": null,
   "id": "7df0b10e-4790-4b89-a18c-684fc153b997",
   "metadata": {},
   "outputs": [],
   "source": []
  }
 ],
 "metadata": {
  "kernelspec": {
   "display_name": "Python 3 (ipykernel)",
   "language": "python",
   "name": "python3"
  },
  "language_info": {
   "codemirror_mode": {
    "name": "ipython",
    "version": 3
   },
   "file_extension": ".py",
   "mimetype": "text/x-python",
   "name": "python",
   "nbconvert_exporter": "python",
   "pygments_lexer": "ipython3",
   "version": "3.10.9"
  }
 },
 "nbformat": 4,
 "nbformat_minor": 5
}
