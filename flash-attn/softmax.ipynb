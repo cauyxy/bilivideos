{
 "cells": [
  {
   "cell_type": "code",
   "execution_count": 1,
   "id": "0bc1e8c2-13cb-4cee-91bf-82d6d8252c5d",
   "metadata": {},
   "outputs": [],
   "source": [
    "import torch"
   ]
  },
  {
   "cell_type": "code",
   "execution_count": 2,
   "id": "b67f609b-acea-4b88-bdbc-bd8decc75175",
   "metadata": {},
   "outputs": [],
   "source": [
    "q = torch.tensor([1,2]).float()\n",
    "v = torch.tensor([1,2]).float()"
   ]
  },
  {
   "cell_type": "code",
   "execution_count": 3,
   "id": "2b52ac70-e527-431a-9446-b59b0627dbb0",
   "metadata": {},
   "outputs": [
    {
     "name": "stdout",
     "output_type": "stream",
     "text": [
      "tensor([0.2689, 0.7311])\n"
     ]
    }
   ],
   "source": [
    "q_sm = torch.softmax(q, 0)\n",
    "print(q_sm)"
   ]
  },
  {
   "cell_type": "code",
   "execution_count": 4,
   "id": "fcd4728e-70b2-41e0-9373-cc8ce53ee990",
   "metadata": {},
   "outputs": [
    {
     "data": {
      "text/plain": [
       "tensor(1.7311)"
      ]
     },
     "execution_count": 4,
     "metadata": {},
     "output_type": "execute_result"
    }
   ],
   "source": [
    "torch.dot(q_sm, v)"
   ]
  },
  {
   "cell_type": "code",
   "execution_count": 5,
   "id": "ff2f0f8f-cbe8-4d42-95ef-86822c79aba3",
   "metadata": {},
   "outputs": [],
   "source": [
    "m_pre = float(\"-inf\")\n",
    "l_pre = 0\n",
    "cur_sum = 0"
   ]
  },
  {
   "cell_type": "code",
   "execution_count": 6,
   "id": "84ec7232-fb4f-4530-8538-be3fa2b29efe",
   "metadata": {},
   "outputs": [],
   "source": [
    "block1 = torch.tensor([1]).float()\n",
    "# get cur max value\n",
    "m_cur = max(torch.max(block1), m_pre)\n",
    "# scale pre log value by max exp\n",
    "l_pre *= torch.exp(m_pre - m_cur)\n",
    "# calculate current log sum\n",
    "p = torch.exp(block1 - m_cur)\n",
    "l_cur = torch.sum(p) + l_pre\n",
    "# scale pre result by log sum\n",
    "cur_sum = cur_sum * l_pre / l_cur\n",
    "p = p / l_cur\n",
    "cur_sum = 1 * p[0]"
   ]
  },
  {
   "cell_type": "code",
   "execution_count": 7,
   "id": "7e3c6d57-6534-4cf4-82ad-38cf8a64b4c0",
   "metadata": {},
   "outputs": [],
   "source": [
    "l_pre = l_cur\n",
    "m_pre = m_cur"
   ]
  },
  {
   "cell_type": "code",
   "execution_count": 8,
   "id": "3ddaf379-7238-436e-adcd-e698cc0e7f2d",
   "metadata": {},
   "outputs": [
    {
     "data": {
      "text/plain": [
       "tensor(1.)"
      ]
     },
     "execution_count": 8,
     "metadata": {},
     "output_type": "execute_result"
    }
   ],
   "source": [
    "cur_sum"
   ]
  },
  {
   "cell_type": "code",
   "execution_count": 9,
   "id": "0c21ec4b-58c0-484d-9585-61d22574152e",
   "metadata": {},
   "outputs": [],
   "source": [
    "block2 = torch.tensor([2]).float()\n",
    "m_cur = max(torch.max(block2), m_pre)\n",
    "l_pre *= torch.exp(m_pre - m_cur)\n",
    "p = torch.exp(block2 - m_cur)\n",
    "l_cur = torch.sum(p) + l_pre\n",
    "cur_sum = cur_sum * l_pre / l_cur\n",
    "p = p / l_cur\n",
    "cur_sum += 2 * p[0]"
   ]
  },
  {
   "cell_type": "code",
   "execution_count": 10,
   "id": "ad2c8bbd-4b3b-4fe1-adf9-2a7a9aaf474b",
   "metadata": {},
   "outputs": [
    {
     "data": {
      "text/plain": [
       "tensor(1.7311)"
      ]
     },
     "execution_count": 10,
     "metadata": {},
     "output_type": "execute_result"
    }
   ],
   "source": [
    "cur_sum"
   ]
  },
  {
   "cell_type": "code",
   "execution_count": null,
   "id": "0d34c201-4f0e-473d-82af-cd9c2d7942aa",
   "metadata": {},
   "outputs": [],
   "source": []
  }
 ],
 "metadata": {
  "kernelspec": {
   "display_name": "Python 3 (ipykernel)",
   "language": "python",
   "name": "python3"
  },
  "language_info": {
   "codemirror_mode": {
    "name": "ipython",
    "version": 3
   },
   "file_extension": ".py",
   "mimetype": "text/x-python",
   "name": "python",
   "nbconvert_exporter": "python",
   "pygments_lexer": "ipython3",
   "version": "3.10.0"
  }
 },
 "nbformat": 4,
 "nbformat_minor": 5
}
